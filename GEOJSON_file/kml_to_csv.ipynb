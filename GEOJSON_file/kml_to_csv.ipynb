{
 "cells": [
  {
   "cell_type": "code",
   "execution_count": 2,
   "metadata": {},
   "outputs": [],
   "source": [
    "import xml.etree.ElementTree as ET\n",
    "import csv\n",
    "import pandas\n",
    "import shutil\n",
    "import os\n",
    "import time\n",
    "import threading"
   ]
  },
  {
   "cell_type": "code",
   "execution_count": 3,
   "metadata": {},
   "outputs": [],
   "source": [
    "kml = \"./kml/data/20240117_a.kml\""
   ]
  },
  {
   "cell_type": "code",
   "execution_count": 4,
   "metadata": {},
   "outputs": [
    {
     "name": "stdout",
     "output_type": "stream",
     "text": [
      "<?xml version=\"1.0\" encoding=\"UTF-8\"?>\n",
      "<kml xmlns:xsi=\"http://www.w3.org/2001/XMLSchema-instance\" xmlns:gml=\"http://www.opengis.net/gml\" xmlns:xfdu=\"urn:ccsds:schema:xfdu:1\" xmlns:safe=\"http://www.esa.int/safe/sentinel-1.0\" xmlns:s1=\"http://www.esa.int/safe/sentinel-1.0/sentinel-1\" xmlns:s1sar=\"http://www.esa.int/safe/sentinel-1.0/sentinel-1/sar\" xmlns:s1sarl1=\"http://www.esa.int/safe/sentinel-1.0/sentinel-1/sar/level-1\" xmlns:s1sarl2=\"http://www.esa.int/safe/sentinel-1.0/sentinel-1/sar/level-2\" xmlns:gx=\"http://www.google.com/kml/ext/2.2\">\n",
      "  <Document>\n",
      "    <name>Sentinel-1 Map Overlay</name>\n",
      "    <Folder>\n",
      "      <name>Sentinel-1 Scene Overlay</name>\n",
      "      <GroundOverlay>\n",
      "        <name>Sentinel-1 Image Overlay</name>\n",
      "        <Icon>\n",
      "          <href>quick-look.png</href>\n",
      "        </Icon>\n",
      "        <gx:LatLonQuad>\n",
      "          <coordinates>122.060059,23.854246 119.592102,24.274906 119.947357,26.019800 122.451324,25.602335</coordinates>\n",
      "        </gx:LatLonQuad>\n",
      "      </GroundOverlay>\n",
      "    </Folder>\n",
      "  </Document>\n",
      "</kml>\n",
      "\n"
     ]
    }
   ],
   "source": [
    "with open(kml,'r', encoding='utf-8') as f:\n",
    "    kml_str = f.read()\n",
    "print(kml_str)"
   ]
  },
  {
   "cell_type": "code",
   "execution_count": 5,
   "metadata": {},
   "outputs": [],
   "source": [
    "namespaces = {\n",
    "    'gx': 'http://www.google.com/kml/ext/2.2'\n",
    "}"
   ]
  },
  {
   "cell_type": "code",
   "execution_count": 8,
   "metadata": {},
   "outputs": [],
   "source": [
    "tree = ET.parse(kml)\n",
    "\n",
    "root = tree.getroot()\n",
    "\n",
    "go = root.find(\".//Document/Folder/GroundOverlay\", namespaces=namespaces)\n",
    "\n",
    "if go is not None:\n",
    "    if latLonQuad := go.find(\".//gx:LatLonQuad/coordinates\", namespaces=namespaces):\n",
    "        latLonQuad.text\n",
    "else:\n",
    "    print(\"GroundOverlay not found under Folder.\")"
   ]
  },
  {
   "cell_type": "code",
   "execution_count": 7,
   "metadata": {},
   "outputs": [
    {
     "data": {
      "text/plain": [
       "'122.060059,23.854246 119.592102,24.274906 119.947357,26.019800 122.451324,25.602335'"
      ]
     },
     "execution_count": 7,
     "metadata": {},
     "output_type": "execute_result"
    }
   ],
   "source": [
    "latLonQuad.text"
   ]
  },
  {
   "cell_type": "code",
   "execution_count": 9,
   "metadata": {},
   "outputs": [],
   "source": [
    "coordinates_list = [float(coord) for pair in latLonQuad.text.split() for coord in pair.split(',')]\n",
    "headers = ['x1', 'y1', 'x2', 'y2', 'x3', 'y3', 'x4', 'y4']"
   ]
  }
 ],
 "metadata": {
  "kernelspec": {
   "display_name": "Python 3",
   "language": "python",
   "name": "python3"
  },
  "language_info": {
   "codemirror_mode": {
    "name": "ipython",
    "version": 3
   },
   "file_extension": ".py",
   "mimetype": "text/x-python",
   "name": "python",
   "nbconvert_exporter": "python",
   "pygments_lexer": "ipython3",
   "version": "3.11.5"
  }
 },
 "nbformat": 4,
 "nbformat_minor": 2
}
